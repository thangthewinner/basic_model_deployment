{
 "cells": [
  {
   "cell_type": "code",
   "execution_count": 1,
   "metadata": {},
   "outputs": [
    {
     "name": "stderr",
     "output_type": "stream",
     "text": [
      "c:\\Users\\admin\\anaconda3\\envs\\catdog\\lib\\site-packages\\tqdm\\auto.py:21: TqdmWarning: IProgress not found. Please update jupyter and ipywidgets. See https://ipywidgets.readthedocs.io/en/stable/user_install.html\n",
      "  from .autonotebook import tqdm as notebook_tqdm\n"
     ]
    }
   ],
   "source": [
    "import torch \n",
    "import torch.nn as nn\n",
    "\n",
    "import numpy as np\n",
    "\n",
    "from PIL import Image \n",
    "from datasets import load_dataset \n",
    "from torch.utils.data import Dataset, DataLoader \n",
    "from torchvision.models import resnet18 \n",
    "from torchvision import transforms"
   ]
  },
  {
   "cell_type": "code",
   "execution_count": 3,
   "metadata": {},
   "outputs": [
    {
     "data": {
      "text/plain": [
       "Dataset({\n",
       "    features: ['image', 'labels'],\n",
       "    num_rows: 1000\n",
       "})"
      ]
     },
     "execution_count": 3,
     "metadata": {},
     "output_type": "execute_result"
    }
   ],
   "source": [
    "DATASET_NAME = 'cats_vs_dogs'\n",
    "datasets = load_dataset(DATASET_NAME, split=\"train[:1000]\")\n",
    "datasets"
   ]
  },
  {
   "cell_type": "code",
   "execution_count": 4,
   "metadata": {},
   "outputs": [
    {
     "data": {
      "text/plain": [
       "DatasetDict({\n",
       "    train: Dataset({\n",
       "        features: ['image', 'labels'],\n",
       "        num_rows: 800\n",
       "    })\n",
       "    test: Dataset({\n",
       "        features: ['image', 'labels'],\n",
       "        num_rows: 200\n",
       "    })\n",
       "})"
      ]
     },
     "execution_count": 4,
     "metadata": {},
     "output_type": "execute_result"
    }
   ],
   "source": [
    "TEST_SIZE = 0.2 \n",
    "datasets = datasets.train_test_split(test_size=TEST_SIZE)\n",
    "datasets"
   ]
  },
  {
   "cell_type": "code",
   "execution_count": 5,
   "metadata": {},
   "outputs": [],
   "source": [
    "IMG_SIZE = 64 \n",
    "img_transforms = transforms.Compose([\n",
    "    transforms.Resize((IMG_SIZE, IMG_SIZE)),\n",
    "    transforms.Grayscale(num_output_channels=3),\n",
    "    transforms.ToTensor(),\n",
    "    transforms.Normalize(\n",
    "        [0.485, 0.456, 0.406],\n",
    "        [0.229, 0.224, 0.225]\n",
    "    )\n",
    "])"
   ]
  },
  {
   "cell_type": "code",
   "execution_count": 6,
   "metadata": {},
   "outputs": [],
   "source": [
    "class CatDogDataset(Dataset):\n",
    "    def __init__(self, data, transforms=None):\n",
    "        self.data = data \n",
    "        self.transforms = transforms \n",
    "\n",
    "    def __len__(self):\n",
    "        return len(self.data)\n",
    "    \n",
    "    def __getitem__(self, idx):\n",
    "        images = self.data[idx]['image']\n",
    "        labels = self.data[idx]['labels']\n",
    "\n",
    "        if self.transforms:\n",
    "            images = self.transforms(images)\n",
    "\n",
    "        labels = torch.tensor(labels, dtype=torch.long)\n",
    "\n",
    "        return images, labels"
   ]
  },
  {
   "cell_type": "code",
   "execution_count": 7,
   "metadata": {},
   "outputs": [],
   "source": [
    "TRAIN_BATCH_SIZE = 512\n",
    "VAL_BATCH_SIZE = 256\n",
    "\n",
    "train_dataset = CatDogDataset(\n",
    "    datasets['train'], transforms=img_transforms\n",
    ")\n",
    "test_dataset = CatDogDataset(\n",
    "    datasets['test'], transforms=img_transforms\n",
    ")\n",
    "\n",
    "train_loader = DataLoader(\n",
    "    train_dataset,\n",
    "    batch_size=TRAIN_BATCH_SIZE,\n",
    "    shuffle=True\n",
    ")\n",
    "\n",
    "test_loader = DataLoader(\n",
    "    test_dataset,\n",
    "    batch_size=VAL_BATCH_SIZE,\n",
    "    shuffle=True\n",
    ")"
   ]
  },
  {
   "cell_type": "code",
   "execution_count": 8,
   "metadata": {},
   "outputs": [],
   "source": [
    "class CatDogModel(nn.Module):\n",
    "    def __init__(self, n_classes):\n",
    "        super(CatDogModel, self).__init__()\n",
    "\n",
    "        resnet_model = resnet18(weights='IMAGENET1K_V1')\n",
    "        self.backbone = nn.Sequential(*list(resnet_model.children())[:-1])\n",
    "\n",
    "        for param in self.backbone.parameters():\n",
    "            param.requires_grad = False \n",
    "\n",
    "        in_features = resnet_model.fc.in_features \n",
    "        self.fc = nn.Linear(in_features, n_classes)\n",
    "\n",
    "    def forward(self, X):\n",
    "        x = self.backbone(X)\n",
    "        x = torch.flatten(x, 1)\n",
    "        x = self.fc(x)\n",
    "\n",
    "        return x"
   ]
  },
  {
   "cell_type": "code",
   "execution_count": 9,
   "metadata": {},
   "outputs": [
    {
     "data": {
      "text/plain": [
       "'cuda'"
      ]
     },
     "execution_count": 9,
     "metadata": {},
     "output_type": "execute_result"
    }
   ],
   "source": [
    "device = 'cuda' if torch.cuda.is_available() else 'cpu'\n",
    "device"
   ]
  },
  {
   "cell_type": "code",
   "execution_count": 10,
   "metadata": {},
   "outputs": [
    {
     "name": "stdout",
     "output_type": "stream",
     "text": [
      "torch.Size([1, 2])\n"
     ]
    }
   ],
   "source": [
    "N_CLASSES = 2\n",
    "model = CatDogModel(N_CLASSES).to(device)\n",
    "test_input = torch.rand(1, 3, 224, 224).to(device)\n",
    "with torch.no_grad():\n",
    "    output = model(test_input)\n",
    "    print(output.shape)"
   ]
  },
  {
   "cell_type": "code",
   "execution_count": 11,
   "metadata": {},
   "outputs": [],
   "source": [
    "EPOCHS = 10 \n",
    "LR = 1e-3 \n",
    "WEIGHT_DECAY = 1e-5\n",
    "\n",
    "optimizer = torch.optim.Adam(model.parameters(), lr=LR, weight_decay=WEIGHT_DECAY)\n",
    "criterion = torch.nn.CrossEntropyLoss()"
   ]
  },
  {
   "cell_type": "code",
   "execution_count": 17,
   "metadata": {},
   "outputs": [
    {
     "name": "stdout",
     "output_type": "stream",
     "text": [
      "EPOCH 1:\tTrain loss: 0.001, Train Acc: 1.000\tVal Loss: 0.001, Val Acc: 1.000\n",
      "EPOCH 2:\tTrain loss: 0.001, Train Acc: 1.000\tVal Loss: 0.001, Val Acc: 1.000\n",
      "EPOCH 3:\tTrain loss: 0.001, Train Acc: 1.000\tVal Loss: 0.001, Val Acc: 1.000\n",
      "EPOCH 4:\tTrain loss: 0.001, Train Acc: 1.000\tVal Loss: 0.001, Val Acc: 1.000\n",
      "EPOCH 5:\tTrain loss: 0.001, Train Acc: 1.000\tVal Loss: 0.001, Val Acc: 1.000\n",
      "EPOCH 6:\tTrain loss: 0.001, Train Acc: 1.000\tVal Loss: 0.001, Val Acc: 1.000\n",
      "EPOCH 7:\tTrain loss: 0.001, Train Acc: 1.000\tVal Loss: 0.001, Val Acc: 1.000\n",
      "EPOCH 8:\tTrain loss: 0.001, Train Acc: 1.000\tVal Loss: 0.001, Val Acc: 1.000\n",
      "EPOCH 9:\tTrain loss: 0.001, Train Acc: 1.000\tVal Loss: 0.001, Val Acc: 1.000\n",
      "EPOCH 10:\tTrain loss: 0.001, Train Acc: 1.000\tVal Loss: 0.001, Val Acc: 1.000\n"
     ]
    }
   ],
   "source": [
    "for epoch in range(EPOCHS):\n",
    "    train_losses = []\n",
    "    train_correct = 0\n",
    "    total_train = 0\n",
    "    model.train()\n",
    "\n",
    "    for images, labels in train_loader:\n",
    "        images = images.to(device)\n",
    "        labels = labels.to(device)\n",
    "\n",
    "        outputs = model(images)\n",
    "\n",
    "        optimizer.zero_grad()\n",
    "        loss = criterion(outputs, labels)\n",
    "        loss.backward()\n",
    "        optimizer.step()\n",
    "\n",
    "       \n",
    "        _, preds = torch.max(outputs, 1)  \n",
    "        train_correct += (preds == labels).sum().item()\n",
    "        total_train += labels.size(0)\n",
    "\n",
    "        train_losses.append(loss.item())\n",
    "\n",
    "    train_loss = sum(train_losses) / len(train_losses)\n",
    "    train_acc = train_correct / total_train\n",
    "\n",
    "    val_losses = []\n",
    "    val_correct = 0\n",
    "    total_val = 0\n",
    "    model.eval()\n",
    "\n",
    "    with torch.no_grad():\n",
    "        for images, labels in test_loader:\n",
    "            images = images.to(device)\n",
    "            labels = labels.to(device)\n",
    "\n",
    "            outputs = model(images)\n",
    "            loss = criterion(outputs, labels)\n",
    "\n",
    "            val_losses.append(loss.item())\n",
    "\n",
    "            _, preds = torch.max(outputs, 1)\n",
    "            val_correct += (preds == labels).sum().item()\n",
    "            total_val += labels.size(0)\n",
    "\n",
    "    val_loss = sum(val_losses) / len(val_losses)\n",
    "    val_acc = val_correct / total_val\n",
    "\n",
    "    print(f'EPOCH {epoch+1}:\\tTrain loss: {train_loss:.3f}, Train Acc: {train_acc:.3f}\\tVal Loss: {val_loss:.3f}, Val Acc: {val_acc:.3f}')"
   ]
  },
  {
   "cell_type": "code",
   "execution_count": 18,
   "metadata": {},
   "outputs": [],
   "source": [
    "SAVE_PATH = 'models/weights/catdog_weights.pt'\n",
    "torch.save(model.state_dict(), SAVE_PATH)"
   ]
  },
  {
   "cell_type": "code",
   "execution_count": null,
   "metadata": {},
   "outputs": [],
   "source": []
  }
 ],
 "metadata": {
  "kernelspec": {
   "display_name": "catdog",
   "language": "python",
   "name": "python3"
  },
  "language_info": {
   "codemirror_mode": {
    "name": "ipython",
    "version": 3
   },
   "file_extension": ".py",
   "mimetype": "text/x-python",
   "name": "python",
   "nbconvert_exporter": "python",
   "pygments_lexer": "ipython3",
   "version": "3.10.11"
  }
 },
 "nbformat": 4,
 "nbformat_minor": 2
}
